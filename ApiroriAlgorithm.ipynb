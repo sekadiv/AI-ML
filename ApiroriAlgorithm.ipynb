{
  "nbformat": 4,
  "nbformat_minor": 0,
  "metadata": {
    "colab": {
      "name": "ApiroriAlgorithm.ipynb",
      "provenance": [],
      "authorship_tag": "ABX9TyP73A7je2ytZbgpH7w3MfqC",
      "include_colab_link": true
    },
    "kernelspec": {
      "name": "python3",
      "display_name": "Python 3"
    }
  },
  "cells": [
    {
      "cell_type": "markdown",
      "metadata": {
        "id": "view-in-github",
        "colab_type": "text"
      },
      "source": [
        "<a href=\"https://colab.research.google.com/github/sekadiv/AI-ML/blob/main/ApiroriAlgorithm.ipynb\" target=\"_parent\"><img src=\"https://colab.research.google.com/assets/colab-badge.svg\" alt=\"Open In Colab\"/></a>"
      ]
    },
    {
      "cell_type": "code",
      "metadata": {
        "id": "qONLrQZQO1E1"
      },
      "source": [
        "import numpy as np\r\n",
        "import pandas as pd\r\n",
        "from IPython.display import Image\r\n"
      ],
      "execution_count": 1,
      "outputs": []
    },
    {
      "cell_type": "code",
      "metadata": {
        "id": "qJwnZrAVPPBf"
      },
      "source": [
        "dataset=pd.read_csv(\"Market_Basket_Optimisation.csv\")"
      ],
      "execution_count": 5,
      "outputs": []
    },
    {
      "cell_type": "code",
      "metadata": {
        "colab": {
          "base_uri": "https://localhost:8080/",
          "height": 166
        },
        "id": "pi1DQUV8ZpJz",
        "outputId": "995c5c41-60d2-4886-c2b7-e954a01eb5ef"
      },
      "source": [
        "dataset.head(2)"
      ],
      "execution_count": 6,
      "outputs": [
        {
          "output_type": "execute_result",
          "data": {
            "text/html": [
              "<div>\n",
              "<style scoped>\n",
              "    .dataframe tbody tr th:only-of-type {\n",
              "        vertical-align: middle;\n",
              "    }\n",
              "\n",
              "    .dataframe tbody tr th {\n",
              "        vertical-align: top;\n",
              "    }\n",
              "\n",
              "    .dataframe thead th {\n",
              "        text-align: right;\n",
              "    }\n",
              "</style>\n",
              "<table border=\"1\" class=\"dataframe\">\n",
              "  <thead>\n",
              "    <tr style=\"text-align: right;\">\n",
              "      <th></th>\n",
              "      <th>shrimp</th>\n",
              "      <th>almonds</th>\n",
              "      <th>avocado</th>\n",
              "      <th>vegetables mix</th>\n",
              "      <th>green grapes</th>\n",
              "      <th>whole weat flour</th>\n",
              "      <th>yams</th>\n",
              "      <th>cottage cheese</th>\n",
              "      <th>energy drink</th>\n",
              "      <th>tomato juice</th>\n",
              "      <th>low fat yogurt</th>\n",
              "      <th>green tea</th>\n",
              "      <th>honey</th>\n",
              "      <th>salad</th>\n",
              "      <th>mineral water</th>\n",
              "      <th>salmon</th>\n",
              "      <th>antioxydant juice</th>\n",
              "      <th>frozen smoothie</th>\n",
              "      <th>spinach</th>\n",
              "      <th>olive oil</th>\n",
              "    </tr>\n",
              "  </thead>\n",
              "  <tbody>\n",
              "    <tr>\n",
              "      <th>0</th>\n",
              "      <td>burgers</td>\n",
              "      <td>meatballs</td>\n",
              "      <td>eggs</td>\n",
              "      <td>NaN</td>\n",
              "      <td>NaN</td>\n",
              "      <td>NaN</td>\n",
              "      <td>NaN</td>\n",
              "      <td>NaN</td>\n",
              "      <td>NaN</td>\n",
              "      <td>NaN</td>\n",
              "      <td>NaN</td>\n",
              "      <td>NaN</td>\n",
              "      <td>NaN</td>\n",
              "      <td>NaN</td>\n",
              "      <td>NaN</td>\n",
              "      <td>NaN</td>\n",
              "      <td>NaN</td>\n",
              "      <td>NaN</td>\n",
              "      <td>NaN</td>\n",
              "      <td>NaN</td>\n",
              "    </tr>\n",
              "    <tr>\n",
              "      <th>1</th>\n",
              "      <td>chutney</td>\n",
              "      <td>NaN</td>\n",
              "      <td>NaN</td>\n",
              "      <td>NaN</td>\n",
              "      <td>NaN</td>\n",
              "      <td>NaN</td>\n",
              "      <td>NaN</td>\n",
              "      <td>NaN</td>\n",
              "      <td>NaN</td>\n",
              "      <td>NaN</td>\n",
              "      <td>NaN</td>\n",
              "      <td>NaN</td>\n",
              "      <td>NaN</td>\n",
              "      <td>NaN</td>\n",
              "      <td>NaN</td>\n",
              "      <td>NaN</td>\n",
              "      <td>NaN</td>\n",
              "      <td>NaN</td>\n",
              "      <td>NaN</td>\n",
              "      <td>NaN</td>\n",
              "    </tr>\n",
              "  </tbody>\n",
              "</table>\n",
              "</div>"
            ],
            "text/plain": [
              "    shrimp    almonds avocado  ... frozen smoothie spinach olive oil\n",
              "0  burgers  meatballs    eggs  ...             NaN     NaN       NaN\n",
              "1  chutney        NaN     NaN  ...             NaN     NaN       NaN\n",
              "\n",
              "[2 rows x 20 columns]"
            ]
          },
          "metadata": {
            "tags": []
          },
          "execution_count": 6
        }
      ]
    },
    {
      "cell_type": "code",
      "metadata": {
        "colab": {
          "base_uri": "https://localhost:8080/"
        },
        "id": "WeHLdQ6rZrc1",
        "outputId": "b8bad493-c42c-4582-fd28-70d981bdd1aa"
      },
      "source": [
        "dataset.shape"
      ],
      "execution_count": 8,
      "outputs": [
        {
          "output_type": "execute_result",
          "data": {
            "text/plain": [
              "(7500, 20)"
            ]
          },
          "metadata": {
            "tags": []
          },
          "execution_count": 8
        }
      ]
    },
    {
      "cell_type": "code",
      "metadata": {
        "colab": {
          "base_uri": "https://localhost:8080/"
        },
        "id": "cx8VUh-KaUhQ",
        "outputId": "60ddc9b9-60c7-4388-b9d4-fdfd2ed6b27c"
      },
      "source": [
        ""
      ],
      "execution_count": 9,
      "outputs": [
        {
          "output_type": "execute_result",
          "data": {
            "text/plain": [
              "150000"
            ]
          },
          "metadata": {
            "tags": []
          },
          "execution_count": 9
        }
      ]
    },
    {
      "cell_type": "code",
      "metadata": {
        "id": "i2fut6eqaZsy"
      },
      "source": [
        ""
      ],
      "execution_count": null,
      "outputs": []
    }
  ]
}