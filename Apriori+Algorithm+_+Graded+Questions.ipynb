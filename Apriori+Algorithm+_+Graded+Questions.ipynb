{
  "nbformat": 4,
  "nbformat_minor": 0,
  "metadata": {
    "colab": {
      "name": "Apriori+Algorithm+-+Graded+Questions.ipynb",
      "provenance": [],
      "collapsed_sections": [],
      "toc_visible": true,
      "include_colab_link": true
    },
    "kernelspec": {
      "display_name": "Python 3",
      "language": "python",
      "name": "python3"
    },
    "language_info": {
      "codemirror_mode": {
        "name": "ipython",
        "version": 3
      },
      "file_extension": ".py",
      "mimetype": "text/x-python",
      "name": "python",
      "nbconvert_exporter": "python",
      "pygments_lexer": "ipython3",
      "version": "3.7.0"
    }
  },
  "cells": [
    {
      "cell_type": "markdown",
      "metadata": {
        "id": "view-in-github",
        "colab_type": "text"
      },
      "source": [
        "<a href=\"https://colab.research.google.com/github/sekadiv/AI-ML/blob/main/Apriori%2BAlgorithm%2B_%2BGraded%2BQuestions.ipynb\" target=\"_parent\"><img src=\"https://colab.research.google.com/assets/colab-badge.svg\" alt=\"Open In Colab\"/></a>"
      ]
    },
    {
      "cell_type": "markdown",
      "metadata": {
        "id": "hV2UIPhw54Ej"
      },
      "source": [
        "### PART A: Frequent Itemset Generation"
      ]
    },
    {
      "cell_type": "code",
      "metadata": {
        "colab": {
          "base_uri": "https://localhost:8080/",
          "height": 538
        },
        "id": "W-IzOGLJqfJW",
        "outputId": "384fe00d-0b04-4c4c-ac80-bcc1b3f641a5"
      },
      "source": [
        "# Importing the libraries and the dataset\n",
        "\n",
        "import numpy as np \n",
        "import pandas as pd\n",
        "\n",
        "Market_Data = pd.read_csv('Market_Basket_Optimisation_demo.csv',index_col=None, header = None ) # Use your local path here\n",
        "\n",
        "Market_Data.head(10)"
      ],
      "execution_count": 1,
      "outputs": [
        {
          "output_type": "execute_result",
          "data": {
            "text/html": [
              "<div>\n",
              "<style scoped>\n",
              "    .dataframe tbody tr th:only-of-type {\n",
              "        vertical-align: middle;\n",
              "    }\n",
              "\n",
              "    .dataframe tbody tr th {\n",
              "        vertical-align: top;\n",
              "    }\n",
              "\n",
              "    .dataframe thead th {\n",
              "        text-align: right;\n",
              "    }\n",
              "</style>\n",
              "<table border=\"1\" class=\"dataframe\">\n",
              "  <thead>\n",
              "    <tr style=\"text-align: right;\">\n",
              "      <th></th>\n",
              "      <th>0</th>\n",
              "      <th>1</th>\n",
              "      <th>2</th>\n",
              "      <th>3</th>\n",
              "      <th>4</th>\n",
              "      <th>5</th>\n",
              "      <th>6</th>\n",
              "      <th>7</th>\n",
              "      <th>8</th>\n",
              "      <th>9</th>\n",
              "      <th>10</th>\n",
              "      <th>11</th>\n",
              "      <th>12</th>\n",
              "      <th>13</th>\n",
              "      <th>14</th>\n",
              "      <th>15</th>\n",
              "      <th>16</th>\n",
              "      <th>17</th>\n",
              "      <th>18</th>\n",
              "      <th>19</th>\n",
              "    </tr>\n",
              "  </thead>\n",
              "  <tbody>\n",
              "    <tr>\n",
              "      <th>0</th>\n",
              "      <td>shrimp</td>\n",
              "      <td>almonds</td>\n",
              "      <td>avocado</td>\n",
              "      <td>vegetables mix</td>\n",
              "      <td>green grapes</td>\n",
              "      <td>whole weat flour</td>\n",
              "      <td>yams</td>\n",
              "      <td>cottage cheese</td>\n",
              "      <td>energy drink</td>\n",
              "      <td>tomato juice</td>\n",
              "      <td>low fat yogurt</td>\n",
              "      <td>green tea</td>\n",
              "      <td>honey</td>\n",
              "      <td>salad</td>\n",
              "      <td>mineral water</td>\n",
              "      <td>salmon</td>\n",
              "      <td>antioxydant juice</td>\n",
              "      <td>frozen smoothie</td>\n",
              "      <td>spinach</td>\n",
              "      <td>olive oil</td>\n",
              "    </tr>\n",
              "    <tr>\n",
              "      <th>1</th>\n",
              "      <td>burgers</td>\n",
              "      <td>meatballs</td>\n",
              "      <td>eggs</td>\n",
              "      <td>NaN</td>\n",
              "      <td>NaN</td>\n",
              "      <td>NaN</td>\n",
              "      <td>NaN</td>\n",
              "      <td>NaN</td>\n",
              "      <td>NaN</td>\n",
              "      <td>NaN</td>\n",
              "      <td>NaN</td>\n",
              "      <td>NaN</td>\n",
              "      <td>NaN</td>\n",
              "      <td>NaN</td>\n",
              "      <td>NaN</td>\n",
              "      <td>NaN</td>\n",
              "      <td>NaN</td>\n",
              "      <td>NaN</td>\n",
              "      <td>NaN</td>\n",
              "      <td>NaN</td>\n",
              "    </tr>\n",
              "    <tr>\n",
              "      <th>2</th>\n",
              "      <td>chutney</td>\n",
              "      <td>NaN</td>\n",
              "      <td>NaN</td>\n",
              "      <td>NaN</td>\n",
              "      <td>NaN</td>\n",
              "      <td>NaN</td>\n",
              "      <td>NaN</td>\n",
              "      <td>NaN</td>\n",
              "      <td>NaN</td>\n",
              "      <td>NaN</td>\n",
              "      <td>NaN</td>\n",
              "      <td>NaN</td>\n",
              "      <td>NaN</td>\n",
              "      <td>NaN</td>\n",
              "      <td>NaN</td>\n",
              "      <td>NaN</td>\n",
              "      <td>NaN</td>\n",
              "      <td>NaN</td>\n",
              "      <td>NaN</td>\n",
              "      <td>NaN</td>\n",
              "    </tr>\n",
              "    <tr>\n",
              "      <th>3</th>\n",
              "      <td>turkey</td>\n",
              "      <td>avocado</td>\n",
              "      <td>NaN</td>\n",
              "      <td>NaN</td>\n",
              "      <td>NaN</td>\n",
              "      <td>NaN</td>\n",
              "      <td>NaN</td>\n",
              "      <td>NaN</td>\n",
              "      <td>NaN</td>\n",
              "      <td>NaN</td>\n",
              "      <td>NaN</td>\n",
              "      <td>NaN</td>\n",
              "      <td>NaN</td>\n",
              "      <td>NaN</td>\n",
              "      <td>NaN</td>\n",
              "      <td>NaN</td>\n",
              "      <td>NaN</td>\n",
              "      <td>NaN</td>\n",
              "      <td>NaN</td>\n",
              "      <td>NaN</td>\n",
              "    </tr>\n",
              "    <tr>\n",
              "      <th>4</th>\n",
              "      <td>mineral water</td>\n",
              "      <td>milk</td>\n",
              "      <td>energy bar</td>\n",
              "      <td>whole wheat rice</td>\n",
              "      <td>green tea</td>\n",
              "      <td>NaN</td>\n",
              "      <td>NaN</td>\n",
              "      <td>NaN</td>\n",
              "      <td>NaN</td>\n",
              "      <td>NaN</td>\n",
              "      <td>NaN</td>\n",
              "      <td>NaN</td>\n",
              "      <td>NaN</td>\n",
              "      <td>NaN</td>\n",
              "      <td>NaN</td>\n",
              "      <td>NaN</td>\n",
              "      <td>NaN</td>\n",
              "      <td>NaN</td>\n",
              "      <td>NaN</td>\n",
              "      <td>NaN</td>\n",
              "    </tr>\n",
              "    <tr>\n",
              "      <th>5</th>\n",
              "      <td>low fat yogurt</td>\n",
              "      <td>NaN</td>\n",
              "      <td>NaN</td>\n",
              "      <td>NaN</td>\n",
              "      <td>NaN</td>\n",
              "      <td>NaN</td>\n",
              "      <td>NaN</td>\n",
              "      <td>NaN</td>\n",
              "      <td>NaN</td>\n",
              "      <td>NaN</td>\n",
              "      <td>NaN</td>\n",
              "      <td>NaN</td>\n",
              "      <td>NaN</td>\n",
              "      <td>NaN</td>\n",
              "      <td>NaN</td>\n",
              "      <td>NaN</td>\n",
              "      <td>NaN</td>\n",
              "      <td>NaN</td>\n",
              "      <td>NaN</td>\n",
              "      <td>NaN</td>\n",
              "    </tr>\n",
              "    <tr>\n",
              "      <th>6</th>\n",
              "      <td>whole wheat pasta</td>\n",
              "      <td>french fries</td>\n",
              "      <td>NaN</td>\n",
              "      <td>NaN</td>\n",
              "      <td>NaN</td>\n",
              "      <td>NaN</td>\n",
              "      <td>NaN</td>\n",
              "      <td>NaN</td>\n",
              "      <td>NaN</td>\n",
              "      <td>NaN</td>\n",
              "      <td>NaN</td>\n",
              "      <td>NaN</td>\n",
              "      <td>NaN</td>\n",
              "      <td>NaN</td>\n",
              "      <td>NaN</td>\n",
              "      <td>NaN</td>\n",
              "      <td>NaN</td>\n",
              "      <td>NaN</td>\n",
              "      <td>NaN</td>\n",
              "      <td>NaN</td>\n",
              "    </tr>\n",
              "    <tr>\n",
              "      <th>7</th>\n",
              "      <td>soup</td>\n",
              "      <td>light cream</td>\n",
              "      <td>shallot</td>\n",
              "      <td>NaN</td>\n",
              "      <td>NaN</td>\n",
              "      <td>NaN</td>\n",
              "      <td>NaN</td>\n",
              "      <td>NaN</td>\n",
              "      <td>NaN</td>\n",
              "      <td>NaN</td>\n",
              "      <td>NaN</td>\n",
              "      <td>NaN</td>\n",
              "      <td>NaN</td>\n",
              "      <td>NaN</td>\n",
              "      <td>NaN</td>\n",
              "      <td>NaN</td>\n",
              "      <td>NaN</td>\n",
              "      <td>NaN</td>\n",
              "      <td>NaN</td>\n",
              "      <td>NaN</td>\n",
              "    </tr>\n",
              "    <tr>\n",
              "      <th>8</th>\n",
              "      <td>frozen vegetables</td>\n",
              "      <td>spaghetti</td>\n",
              "      <td>green tea</td>\n",
              "      <td>NaN</td>\n",
              "      <td>NaN</td>\n",
              "      <td>NaN</td>\n",
              "      <td>NaN</td>\n",
              "      <td>NaN</td>\n",
              "      <td>NaN</td>\n",
              "      <td>NaN</td>\n",
              "      <td>NaN</td>\n",
              "      <td>NaN</td>\n",
              "      <td>NaN</td>\n",
              "      <td>NaN</td>\n",
              "      <td>NaN</td>\n",
              "      <td>NaN</td>\n",
              "      <td>NaN</td>\n",
              "      <td>NaN</td>\n",
              "      <td>NaN</td>\n",
              "      <td>NaN</td>\n",
              "    </tr>\n",
              "    <tr>\n",
              "      <th>9</th>\n",
              "      <td>french fries</td>\n",
              "      <td>NaN</td>\n",
              "      <td>NaN</td>\n",
              "      <td>NaN</td>\n",
              "      <td>NaN</td>\n",
              "      <td>NaN</td>\n",
              "      <td>NaN</td>\n",
              "      <td>NaN</td>\n",
              "      <td>NaN</td>\n",
              "      <td>NaN</td>\n",
              "      <td>NaN</td>\n",
              "      <td>NaN</td>\n",
              "      <td>NaN</td>\n",
              "      <td>NaN</td>\n",
              "      <td>NaN</td>\n",
              "      <td>NaN</td>\n",
              "      <td>NaN</td>\n",
              "      <td>NaN</td>\n",
              "      <td>NaN</td>\n",
              "      <td>NaN</td>\n",
              "    </tr>\n",
              "  </tbody>\n",
              "</table>\n",
              "</div>"
            ],
            "text/plain": [
              "                  0             1   ...       18         19\n",
              "0             shrimp       almonds  ...  spinach  olive oil\n",
              "1            burgers     meatballs  ...      NaN        NaN\n",
              "2            chutney           NaN  ...      NaN        NaN\n",
              "3             turkey       avocado  ...      NaN        NaN\n",
              "4      mineral water          milk  ...      NaN        NaN\n",
              "5     low fat yogurt           NaN  ...      NaN        NaN\n",
              "6  whole wheat pasta  french fries  ...      NaN        NaN\n",
              "7               soup   light cream  ...      NaN        NaN\n",
              "8  frozen vegetables     spaghetti  ...      NaN        NaN\n",
              "9       french fries           NaN  ...      NaN        NaN\n",
              "\n",
              "[10 rows x 20 columns]"
            ]
          },
          "metadata": {
            "tags": []
          },
          "execution_count": 1
        }
      ]
    },
    {
      "cell_type": "code",
      "metadata": {
        "id": "LmxHwP0Q54Em"
      },
      "source": [
        "# Converting the Market Dataset into a nested list\n",
        "dataSet = []\n",
        "\n",
        "for index, transaction in Market_Data.iterrows():\n",
        "    cleaned_transaction = transaction[~transaction.isnull()].tolist()\n",
        "    dataSet.append(cleaned_transaction)"
      ],
      "execution_count": 8,
      "outputs": []
    },
    {
      "cell_type": "markdown",
      "metadata": {
        "id": "uM3UhV-754En"
      },
      "source": [
        "#### 1. The createItem function"
      ]
    },
    {
      "cell_type": "code",
      "metadata": {
        "id": "tJWZCKKWqfJn"
      },
      "source": [
        "# For the given dataset writing a function to return the list of distinct items in the dataset\n",
        "\n",
        "def createItem(dataSet):\n",
        "    \n",
        "    itemList = []\n",
        "    \n",
        "    for transaction in dataSet:\n",
        "        for item in transaction:\n",
        "            if not [item] in itemList:\n",
        "                \n",
        "                 # creating unique single lists in Itemlist. ie list of all items\n",
        "                itemList.append([item])\n",
        "                \n",
        "    itemList.sort()\n",
        "    \n",
        "    return list(map(frozenset, itemList))"
      ],
      "execution_count": 9,
      "outputs": []
    },
    {
      "cell_type": "markdown",
      "metadata": {
        "id": "Zb5-uk0W54Eo"
      },
      "source": [
        "#### 2. The scanData function"
      ]
    },
    {
      "cell_type": "code",
      "metadata": {
        "id": "6hMLo8Of54Eo"
      },
      "source": [
        "# Returns an Itemset and dictionary with Support values\n",
        "\n",
        "def scanData(data, itemsetk, minSupport):\n",
        "    \n",
        "    tempDict = {}\n",
        "    \n",
        "    for transaction in data:\n",
        "        for item in itemsetk:\n",
        "            if item.issubset(transaction):\n",
        "                if not item in tempDict: \n",
        "                    tempDict[item]=1 # tempDict contains number of all items\n",
        "                else: \n",
        "                    tempDict[item] += 1\n",
        "    \n",
        "    numItems = float(len(data))\n",
        "    freqItemset = []\n",
        "    supportDict = {}\n",
        "    \n",
        "    for key in tempDict:\n",
        "        support = tempDict[key]/numItems \n",
        "        \n",
        "        if support >= minSupport:\n",
        "            freqItemset.insert(0,key) # freqItemset contains all frequent items\n",
        "        supportDict[key] = support # contains support of all items\n",
        "    \n",
        "    return freqItemset, supportDict"
      ],
      "execution_count": 10,
      "outputs": []
    },
    {
      "cell_type": "markdown",
      "metadata": {
        "id": "jOw7fISv54Eo"
      },
      "source": [
        "#### 3. The itemSetGenerator function"
      ]
    },
    {
      "cell_type": "code",
      "metadata": {
        "id": "nNooiUtj54Ep"
      },
      "source": [
        "# Creating Higher order Itemsets\n",
        "\n",
        "def itemSetGenerator(itemsetk, k):\n",
        " \n",
        "    higherOrderitemset = []\n",
        "    lenitemsetk = len(itemsetk)\n",
        "    \n",
        "    \n",
        "    for i in range(lenitemsetk):\n",
        "        for j in range(i+1, lenitemsetk): \n",
        "            L1 = sorted(list(itemsetk[i]))[:k-2] \n",
        "            L2 = sorted(list(itemsetk[j]))[:k-2] \n",
        "            \n",
        "            # Two frequent itemsets of order k are merged only if their k-1 itemsets are identical\n",
        "            if L1 == L2:\n",
        "                higherOrderitemset.append(itemsetk[i] | itemsetk[j]) # Performing set union creates itemset with n+1 items\n",
        "               \n",
        "    return higherOrderitemset"
      ],
      "execution_count": 12,
      "outputs": []
    },
    {
      "cell_type": "markdown",
      "metadata": {
        "id": "YexrXFR854Ep"
      },
      "source": [
        "#### 4. Frequent Itemsets Generation"
      ]
    },
    {
      "cell_type": "code",
      "metadata": {
        "id": "RDBPFNl154Ep"
      },
      "source": [
        "def apriori(dataSet, minSupport):\n",
        "    \n",
        "    itemList = createItem(dataSet) # Creating frozenset of items\n",
        "    \n",
        "    \n",
        "    # Generating all the frequent 1-itemsets and the support of those items\n",
        "    freqItemset1, supportDict = scanData(dataSet, itemList, minSupport)\n",
        "    freqItemsets = [freqItemset1]\n",
        "    k = 2 \n",
        "    \n",
        "    while (len(freqItemsets[k-2]) > 0): # Incrementing k until we no longer find any kth order itemsets\n",
        "        \n",
        "        itemsetk = itemSetGenerator(freqItemsets[k-2], k) # Generating itemsets of order k\n",
        "        \n",
        "        # Generating the frequent itemset for the kth order and support for each of these itemsets\n",
        "        freqItemsetk, supportDictk = scanData(dataSet, itemsetk, minSupport) \n",
        "        \n",
        "        supportDict.update(supportDictk)\n",
        "        freqItemsets.append(freqItemsetk)\n",
        "        \n",
        "        k += 1\n",
        "    return freqItemsets, supportDict"
      ],
      "execution_count": 13,
      "outputs": []
    },
    {
      "cell_type": "markdown",
      "metadata": {
        "id": "-f5G4B9e54Eq"
      },
      "source": [
        "Calculate the maximum possible two itemsets.\n",
        "- 140\n",
        "- 120\n",
        "- 7140\n",
        "- 5240"
      ]
    },
    {
      "cell_type": "code",
      "metadata": {
        "colab": {
          "base_uri": "https://localhost:8080/"
        },
        "id": "tp1PH7nP54Eq",
        "outputId": "8da0da5c-b2fd-452b-c0bd-b250d7a41eb5"
      },
      "source": [
        "# Identify the distinct items involved in the dataset\n",
        "\n",
        "unique_list=createItem(dataSet)\n",
        "len(unique_list)"
      ],
      "execution_count": 16,
      "outputs": [
        {
          "output_type": "execute_result",
          "data": {
            "text/plain": [
              "120"
            ]
          },
          "metadata": {
            "tags": []
          },
          "execution_count": 16
        }
      ]
    },
    {
      "cell_type": "code",
      "metadata": {
        "id": "E13-REpd54Eq"
      },
      "source": [
        "# Calculate the number of possible two itemsets\n",
        "\n",
        "ff=itemSetGenerator(unique_list,2)"
      ],
      "execution_count": 22,
      "outputs": []
    },
    {
      "cell_type": "code",
      "metadata": {
        "colab": {
          "base_uri": "https://localhost:8080/"
        },
        "id": "ethQ-twL9t7P",
        "outputId": "3dd1b595-079c-4467-b15c-5004f1178ac5"
      },
      "source": [
        "len(ff)"
      ],
      "execution_count": 23,
      "outputs": [
        {
          "output_type": "execute_result",
          "data": {
            "text/plain": [
              "7140"
            ]
          },
          "metadata": {
            "tags": []
          },
          "execution_count": 23
        }
      ]
    },
    {
      "cell_type": "code",
      "metadata": {
        "id": "58DzyyOZ_oFQ"
      },
      "source": [
        "ff"
      ],
      "execution_count": null,
      "outputs": []
    },
    {
      "cell_type": "markdown",
      "metadata": {
        "id": "hOqKQ4L854Er"
      },
      "source": [
        " Identify the support of itemset {'eggs','mineral water','spaghetti'} [ Round the value upto three decimal points]\n",
        "\n",
        "- 0.022\n",
        "- 0.034\n",
        "- 0.014\n",
        "- 0.052\n",
        "\n",
        "Identify the number of transaction where items eggs, mineral water and spaghetti are bought together\n",
        "\n",
        "- 165\n",
        "- 255\n",
        "- 392\n",
        "- 107"
      ]
    },
    {
      "cell_type": "code",
      "metadata": {
        "id": "NtiM-iWy54Er"
      },
      "source": [
        "# Identify the support of itemset {'eggs','mineral water','spaghetti'} \n",
        "jj,kk=apriori(dataSet,0.02)\n"
      ],
      "execution_count": 35,
      "outputs": []
    },
    {
      "cell_type": "code",
      "metadata": {
        "colab": {
          "base_uri": "https://localhost:8080/"
        },
        "id": "52TPZ19LExHE",
        "outputId": "baa71a87-3d36-4b8b-8a22-40571f7b4d2b"
      },
      "source": [
        "kk[frozenset({'eggs', 'mineral water', 'spaghetti'})]"
      ],
      "execution_count": 94,
      "outputs": [
        {
          "output_type": "execute_result",
          "data": {
            "text/plain": [
              "0.014264764698040262"
            ]
          },
          "metadata": {
            "tags": []
          },
          "execution_count": 94
        }
      ]
    },
    {
      "cell_type": "code",
      "metadata": {
        "colab": {
          "base_uri": "https://localhost:8080/"
        },
        "id": "uy1VdEt1M24F",
        "outputId": "aa7eebcd-68e9-4b04-ca41-6e243dbfe5fe"
      },
      "source": [
        "#Identify the number of transaction where items eggs, mineral water and spaghetti are bought together\r\n",
        "len(dataSet) * kk[frozenset({'eggs', 'mineral water', 'spaghetti'})]"
      ],
      "execution_count": 102,
      "outputs": [
        {
          "output_type": "execute_result",
          "data": {
            "text/plain": [
              "107.0"
            ]
          },
          "metadata": {
            "tags": []
          },
          "execution_count": 102
        }
      ]
    },
    {
      "cell_type": "markdown",
      "metadata": {
        "id": "KhkKbQyy54Er"
      },
      "source": [
        "Identify the number of frequent itemsets involving both chocolate and mineral water if minSupport is defined as 0.001\n",
        "\n",
        "- 244\n",
        "- 502\n",
        "- 343\n",
        "- 156"
      ]
    },
    {
      "cell_type": "code",
      "metadata": {
        "id": "mW8oKw5-PQaE"
      },
      "source": [
        "# Generate the frequent itemsets when minSupport = 0.001\r\n"
      ],
      "execution_count": 112,
      "outputs": []
    },
    {
      "cell_type": "code",
      "metadata": {
        "colab": {
          "base_uri": "https://localhost:8080/"
        },
        "id": "QdGFNcJsRAcS",
        "outputId": "3e0540e7-a141-47d3-9538-6b42ff010757"
      },
      "source": [
        "#First, you generate all the frequent itemsets, and then you write a function to check if a particular frequent itemset contains the items chocolate and mineral water.\r\n",
        "\r\n",
        "# Generate the frequent itemsets when minSupport = 0.001\r\n",
        "\r\n",
        "freqItemsets, supportDict= apriori(dataSet,minSupport=0.001)\r\n",
        " \r\n",
        "\r\n",
        "# Code to find the number of frequent itemsets containing both chocolate and mineral water\r\n",
        "\r\n",
        "\r\n",
        "x = frozenset({'chocolate', 'mineral water'})\r\n",
        "count = 0\r\n",
        "\r\n",
        "for itemsetsK in freqItemsets:\r\n",
        "    for items in itemsetsK:\r\n",
        "        if items.intersection(x) == frozenset({'chocolate', 'mineral water'}) :\r\n",
        "            count = count +1\r\n",
        "                   \r\n",
        "print(count)"
      ],
      "execution_count": 117,
      "outputs": [
        {
          "output_type": "stream",
          "text": [
            "245\n"
          ],
          "name": "stdout"
        }
      ]
    },
    {
      "cell_type": "code",
      "metadata": {
        "colab": {
          "base_uri": "https://localhost:8080/"
        },
        "id": "pdoSKiKqPVss",
        "outputId": "ccd70f3a-9436-41f1-84d8-1d28a99ac4b2"
      },
      "source": [
        "kk1[frozenset({'chocolate', 'mineral water'})]"
      ],
      "execution_count": 116,
      "outputs": [
        {
          "output_type": "execute_result",
          "data": {
            "text/plain": [
              "0.05265964538061592"
            ]
          },
          "metadata": {
            "tags": []
          },
          "execution_count": 116
        }
      ]
    },
    {
      "cell_type": "code",
      "metadata": {
        "colab": {
          "base_uri": "https://localhost:8080/"
        },
        "id": "R9sAnobPP1ki",
        "outputId": "23c41935-149d-4f0c-fc4b-236a185ba2d4"
      },
      "source": [
        "len(dataSet) * kk1[frozenset({'chocolate', 'mineral water'})]"
      ],
      "execution_count": 115,
      "outputs": [
        {
          "output_type": "execute_result",
          "data": {
            "text/plain": [
              "395.0"
            ]
          },
          "metadata": {
            "tags": []
          },
          "execution_count": 115
        }
      ]
    },
    {
      "cell_type": "code",
      "metadata": {
        "id": "tNyn714e54Es"
      },
      "source": [
        "# Write a code to find the number of frequent itemset containing both chocolate and mineral water\n",
        "\n",
        "\n"
      ],
      "execution_count": null,
      "outputs": []
    },
    {
      "cell_type": "markdown",
      "metadata": {
        "id": "py1gPB7C54Es"
      },
      "source": [
        "### PART B: Rule Generation"
      ]
    },
    {
      "cell_type": "markdown",
      "metadata": {
        "id": "elVvVVB654Es"
      },
      "source": [
        "#### 5. The ‘calcConf’ function"
      ]
    },
    {
      "cell_type": "code",
      "metadata": {
        "id": "SelwPmIDqfKE"
      },
      "source": [
        "def calcConf(freqSet, H, supportDict, bigRuleList, minConf):\n",
        "\n",
        "    prunedH = []\n",
        "    \n",
        "    for conseq in H:\n",
        "        \n",
        "        conf = supportDict[freqSet]/supportDict[freqSet - conseq] # calculate confidence\n",
        "        \n",
        "        if conf >= minConf:\n",
        "            bigRuleList.append((freqSet-conseq, conseq, conf))\n",
        "            print(freqSet-conseq, '--->', conseq, 'confidence = ', conf)\n",
        "            prunedH.append(conseq)\n",
        "#             \n",
        "    return prunedH"
      ],
      "execution_count": null,
      "outputs": []
    },
    {
      "cell_type": "markdown",
      "metadata": {
        "id": "GQKTTWa854E1"
      },
      "source": [
        "#### 6. The rulesFromConseq function\n"
      ]
    },
    {
      "cell_type": "code",
      "metadata": {
        "id": "II_drY5P54E1"
      },
      "source": [
        "def rulesFromConseq(freqSet, H, supportDict, bigRuleList, minConf):\n",
        "\n",
        "    m = len(H[0]) # Order of the consequent while generating the rules\n",
        "         \n",
        "    H = calcConf(freqSet, H, supportDict, bigRuleList, minConf)\n",
        "    if len(H)>1: # For len(H)<=1, you cannot generate higher order cadnidates\n",
        "        \n",
        "        # creating higher order candidates\n",
        "        Hmp1 = itemSetGenerator(H, m+1) \n",
        "        \n",
        "        if Hmp1 == []: # This will happen if higher order consequent itemsets are not possible\n",
        "            # Hmp1 will be an empty list if the itemsets in H don't satisfy the condition for merging\n",
        "            return 0\n",
        "        \n",
        "        if (len(Hmp1[0]) < len(freqSet)):\n",
        "            # Generate rules while the order of the itemsets in Hmp1 is less than the number of items in the frequent itemset\n",
        "            rulesFromConseq(freqSet, Hmp1, supportDict, bigRuleList, minConf)"
      ],
      "execution_count": null,
      "outputs": []
    },
    {
      "cell_type": "markdown",
      "metadata": {
        "id": "Qs7Ou_Qi54E1"
      },
      "source": [
        "#### 7. The generateRules function\n"
      ]
    },
    {
      "cell_type": "code",
      "metadata": {
        "id": "PfwFhMAR54E1"
      },
      "source": [
        "def generateRules(freqItemsets, supportDict, minConf):  #supportDict is a dictionary coming from scanData\n",
        "    bigRuleList = []\n",
        "    for i in range(1, len(freqItemsets)): # Only get the sets with two or more items\n",
        "        for freqSet in freqItemsets[i]:\n",
        "            H1 = [frozenset([item]) for item in freqSet]  \n",
        "            if (i > 1):\n",
        "                rulesFromConseq(freqSet, H1, supportDict, bigRuleList, minConf)\n",
        "            else:\n",
        "                calcConf(freqSet, H1, supportDict, bigRuleList, minConf)\n",
        "    return bigRuleList "
      ],
      "execution_count": null,
      "outputs": []
    },
    {
      "cell_type": "markdown",
      "metadata": {
        "id": "9diEJ6RG54E1"
      },
      "source": [
        "In order to  identify interesting rules from the dataset, you use constraints on metrics such as support, confidence, lift. Implement the measure lift and find out the rules with minSupport=0.05, minConf = 0.2 and lift > 1.2\n",
        "\n",
        "Ref Link - https://en.wikipedia.org/wiki/Lift_(data_mining)\n",
        "\n",
        "- 4\n",
        "- 6\n",
        "- 18\n",
        "- 0"
      ]
    },
    {
      "cell_type": "code",
      "metadata": {
        "id": "WjH5TpW554E2"
      },
      "source": [
        "# In the code for generating rules, implement the computation of Lift\n",
        "\n"
      ],
      "execution_count": null,
      "outputs": []
    },
    {
      "cell_type": "code",
      "metadata": {
        "id": "28r_ggWE54E2"
      },
      "source": [
        "# Generate the rules when minSupport = 0.05, minConfidence = 0.2 and lift >1.2 \n",
        "\n"
      ],
      "execution_count": null,
      "outputs": []
    },
    {
      "cell_type": "code",
      "metadata": {
        "id": "jYyFGpPG54E2"
      },
      "source": [
        "# count the number of rules\n",
        "\n"
      ],
      "execution_count": null,
      "outputs": []
    },
    {
      "cell_type": "markdown",
      "metadata": {
        "id": "4dct4dug54E2"
      },
      "source": [
        "Imagine that for some threshold support value, the itemset  {'eggs','chocolate','spaghetti'} is found to be a frequent itemset. Now for the rule {'chocolate'} --> {'spaghetti', 'eggs'} to be valid what can be the max value of minConfidence? [More than one answer type question]\n",
        "\n",
        "- 0.08\n",
        "- 0.04\n",
        "- 0.06\n",
        "- 0.01"
      ]
    },
    {
      "cell_type": "code",
      "metadata": {
        "id": "HwUtMjNS54E3"
      },
      "source": [
        "#Itendify the support of {'eggs', 'mineral water', 'chocolate'}\n",
        "\n",
        "\n"
      ],
      "execution_count": null,
      "outputs": []
    },
    {
      "cell_type": "code",
      "metadata": {
        "id": "PpAaiLW254E3"
      },
      "source": [
        "# What will be the confidence of the rule {'chocolate'} --> {'spaghetti', 'eggs'}\n",
        "\n",
        "\n"
      ],
      "execution_count": null,
      "outputs": []
    }
  ]
}